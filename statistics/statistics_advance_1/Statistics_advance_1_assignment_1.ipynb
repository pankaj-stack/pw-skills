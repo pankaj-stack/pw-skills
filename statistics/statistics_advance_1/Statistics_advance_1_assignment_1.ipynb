{
 "cells": [
  {
   "cell_type": "markdown",
   "id": "55b170b2-edd1-4fe7-817b-9a3354a9a276",
   "metadata": {
    "tags": []
   },
   "source": [
    "# Q1. What is the Probability density function?"
   ]
  },
  {
   "cell_type": "raw",
   "id": "ad121684-03b9-4253-a106-12f3dbd4f1d0",
   "metadata": {},
   "source": [
    "The Probability Density Function(PDF) defines the probability function representing the density of a continuous random variable lying between a specific range of values. In other words, the probability density function produces the likelihood of values of the continuous random variable. Sometimes it is also called a probability distribution function or just a probability function. However, this function is stated in many other sources as the function over a broad set of values. Often it is referred to as cumulative distribution function or sometimes as probability mass function(PMF). However, the actual truth is PDF (probability density function ) is defined for continuous random variables, whereas PMF (probability mass function) is defined for discrete random variables."
   ]
  },
  {
   "cell_type": "markdown",
   "id": "1e82272d-cf28-44cf-a804-44df37d1a066",
   "metadata": {},
   "source": [
    "# Q2. What are the types of Probability distribution?\n"
   ]
  },
  {
   "cell_type": "raw",
   "id": "0894bdba-77f2-4874-91a6-8021822cdf6e",
   "metadata": {},
   "source": [
    "Types of probability distribution:\n",
    "    > Normal or Gaussian Distribution(pdf)\n",
    "    > Bernouli Distribution(pmf) \n",
    "    > Uniform Distribution(pmf) \n",
    "    > Log Normal Distribution(pdf) \n",
    "    > Poison Distribution(pmf) \n",
    "    > Binomial Distribution(pmf)"
   ]
  },
  {
   "cell_type": "markdown",
   "id": "b67953c1-cf0a-4bd3-916c-b754965e5330",
   "metadata": {},
   "source": [
    "# Q3. Write a Python function to calculate the probability density function of a normal distribution with given mean and standard deviation at a given point."
   ]
  },
  {
   "cell_type": "code",
   "execution_count": 16,
   "id": "01d80af5-3ed7-47b2-b33e-66e5c11dea4d",
   "metadata": {},
   "outputs": [
    {
     "name": "stdout",
     "output_type": "stream",
     "text": [
      "PDF at x = 98: 0.032786643008494994\n"
     ]
    }
   ],
   "source": [
    "import scipy.stats\n",
    "\n",
    "def calculate_normal_pdf(mean, std_dev, x):\n",
    "    \"\"\"\n",
    "    Calculate the probability density function of a normal distribution at a given point.\n",
    "    \n",
    "    Parameters:\n",
    "        mean (float): Mean of the normal distribution.\n",
    "        std_dev (float): Standard deviation of the normal distribution.\n",
    "        x (float): Point at which to calculate the PDF.\n",
    "        \n",
    "    Returns:\n",
    "        pdf_value (float): Probability density function value at the given point.\n",
    "    \"\"\"\n",
    "    pdf_value = scipy.stats.norm.pdf(x, loc=mean, scale=std_dev)\n",
    "    return pdf_value\n",
    "\n",
    "# Example usage\n",
    "mean = 100\n",
    "std_dev = 12\n",
    "x = 98\n",
    "pdf_at_x = calculate_normal_pdf(mean, std_dev, x)\n",
    "print(f\"PDF at x = {x}: {pdf_at_x}\")\n"
   ]
  },
  {
   "cell_type": "markdown",
   "id": "69aadbcb-24bb-4e38-a1ff-ee34a9c2972e",
   "metadata": {},
   "source": [
    "## Q4. What are the properties of Binomial distribution? Give two examples of events where binomial distribution can be applied."
   ]
  },
  {
   "cell_type": "raw",
   "id": "821e4694-7d9b-454b-907c-1b599ce0a9ed",
   "metadata": {},
   "source": [
    "The properties of binomial distributions are :\n",
    "    > It is defined for the descrete random variables.\n",
    "    > There are two possible outcomes: \n",
    "        >true or false, success or failure\n",
    "        >yes or no. \n",
    "    > There is 'n' number of independent trials or a fixed number of n times repeated trials.\n",
    "      The probability of success or failure remains the same for each trial.\n",
    "    > p + q = 1\n",
    "    \n",
    "Example:\n",
    "    1.Tossing a coins(the outcome will head or tail) \n",
    "    2.A student in a exam either fail or pass."
   ]
  },
  {
   "cell_type": "markdown",
   "id": "7b817ae7-305e-41a7-a393-f833ea76314e",
   "metadata": {},
   "source": [
    "## Q5. Generate a random sample of size 1000 from a binomial distribution with probability of success 0.4 and plot a histogram of the results using matplotlib."
   ]
  },
  {
   "cell_type": "code",
   "execution_count": 19,
   "id": "10b03035-8873-4585-b506-5aab342bf30a",
   "metadata": {},
   "outputs": [
    {
     "data": {
      "text/plain": [
       "399.609"
      ]
     },
     "execution_count": 19,
     "metadata": {},
     "output_type": "execute_result"
    }
   ],
   "source": [
    "\n",
    "\n",
    "# Parameters\n",
    "n = 1000  # Number of trials\n",
    "p = 0.4   # Probability of success\n",
    "\n",
    "# Generate random sample\n",
    "random_sample = np.random.binomial(n, p, size=1000)\n",
    "\n",
    "np.mean(random_sample)\n"
   ]
  },
  {
   "cell_type": "code",
   "execution_count": 22,
   "id": "9c3b20af-d735-470c-890b-1c1ca0b1533c",
   "metadata": {},
   "outputs": [
    {
     "data": {
      "text/plain": [
       "array([404, 385, 396, 387, 392, 400, 403, 395, 426, 387, 404, 417, 412,\n",
       "       396, 407, 400, 415, 386, 421, 397, 410, 384, 413, 416, 377, 402,\n",
       "       419, 387, 397, 394, 392, 417, 402, 397, 409, 414, 414, 382, 412,\n",
       "       381, 412, 377, 410, 425, 401, 410, 413, 404, 401, 431, 394, 410,\n",
       "       428, 386, 402, 412, 404, 396, 393, 393, 391, 393, 399, 418, 398,\n",
       "       401, 387, 426, 397, 399, 389, 395, 392, 396, 378, 395, 397, 424,\n",
       "       405, 388, 431, 375, 446, 420, 395, 446, 383, 397, 414, 410, 414,\n",
       "       431, 429, 394, 412, 402, 408, 397, 393, 388, 414, 426, 388, 412,\n",
       "       398, 396, 414, 401, 407, 381, 391, 409, 432, 414, 395, 414, 403,\n",
       "       387, 390, 413, 405, 425, 397, 363, 444, 431, 432, 403, 387, 411,\n",
       "       398, 383, 396, 413, 398, 397, 409, 421, 413, 377, 388, 395, 412,\n",
       "       388, 406, 396, 377, 358, 370, 407, 401, 393, 404, 390, 361, 391,\n",
       "       368, 374, 400, 407, 403, 436, 399, 380, 397, 409, 410, 411, 440,\n",
       "       422, 436, 435, 364, 414, 409, 400, 415, 429, 377, 397, 397, 400,\n",
       "       426, 401, 415, 395, 384, 392, 377, 410, 410, 394, 422, 388, 436,\n",
       "       386, 392, 397, 399, 399, 375, 387, 414, 408, 418, 403, 383, 403,\n",
       "       402, 392, 426, 407, 375, 399, 389, 410, 408, 412, 424, 400, 387,\n",
       "       416, 412, 400, 372, 396, 412, 404, 370, 382, 402, 429, 418, 416,\n",
       "       417, 389, 409, 400, 422, 424, 395, 398, 386, 402, 371, 417, 409,\n",
       "       411, 406, 391, 431, 400, 408, 404, 389, 423, 419, 415, 423, 413,\n",
       "       420, 400, 404, 401, 374, 422, 373, 388, 417, 399, 373, 412, 409,\n",
       "       385, 388, 386, 386, 396, 397, 373, 361, 419, 395, 407, 414, 392,\n",
       "       396, 399, 397, 363, 382, 394, 406, 396, 393, 409, 404, 410, 394,\n",
       "       405, 402, 391, 404, 417, 407, 385, 433, 416, 382, 397, 390, 386,\n",
       "       405, 380, 399, 406, 401, 377, 392, 432, 366, 433, 389, 433, 424,\n",
       "       401, 402, 359, 388, 387, 380, 370, 405, 367, 421, 361, 436, 401,\n",
       "       411, 421, 408, 389, 391, 407, 401, 395, 419, 402, 406, 374, 365,\n",
       "       432, 394, 398, 376, 418, 431, 402, 383, 419, 379, 399, 384, 404,\n",
       "       389, 405, 401, 420, 397, 387, 411, 411, 399, 426, 395, 401, 380,\n",
       "       385, 383, 405, 372, 411, 399, 396, 402, 386, 406, 416, 394, 395,\n",
       "       382, 392, 391, 423, 372, 416, 410, 396, 429, 411, 430, 419, 396,\n",
       "       404, 426, 403, 389, 397, 419, 394, 390, 417, 375, 391, 423, 414,\n",
       "       386, 414, 388, 405, 423, 392, 378, 386, 419, 397, 419, 378, 396,\n",
       "       410, 393, 406, 386, 409, 410, 424, 391, 387, 413, 412, 397, 407,\n",
       "       383, 371, 392, 396, 437, 406, 400, 402, 405, 406, 375, 396, 412,\n",
       "       397, 410, 385, 395, 431, 414, 409, 372, 389, 409, 386, 413, 376,\n",
       "       400, 380, 390, 408, 408, 390, 400, 380, 386, 385, 414, 369, 407,\n",
       "       376, 412, 386, 389, 391, 392, 368, 397, 395, 376, 401, 418, 428,\n",
       "       400, 397, 391, 402, 427, 407, 415, 391, 410, 404, 416, 399, 403,\n",
       "       415, 405, 366, 389, 421, 381, 365, 400, 406, 395, 388, 393, 412,\n",
       "       416, 427, 420, 382, 396, 376, 358, 396, 382, 387, 402, 369, 420,\n",
       "       374, 413, 379, 404, 406, 417, 376, 398, 415, 372, 395, 407, 383,\n",
       "       361, 414, 424, 424, 397, 385, 424, 406, 389, 407, 386, 370, 413,\n",
       "       422, 397, 352, 395, 368, 413, 410, 388, 389, 407, 404, 411, 415,\n",
       "       370, 393, 378, 404, 422, 396, 395, 418, 381, 406, 381, 409, 418,\n",
       "       414, 430, 375, 368, 390, 406, 402, 398, 392, 404, 420, 411, 396,\n",
       "       394, 416, 420, 409, 423, 407, 398, 394, 409, 414, 400, 432, 382,\n",
       "       414, 413, 379, 394, 428, 400, 417, 399, 418, 404, 406, 392, 399,\n",
       "       412, 411, 395, 394, 387, 437, 394, 390, 392, 411, 414, 392, 415,\n",
       "       427, 398, 393, 372, 425, 388, 397, 405, 396, 404, 398, 399, 405,\n",
       "       399, 397, 387, 421, 411, 407, 429, 388, 398, 387, 413, 399, 398,\n",
       "       406, 404, 366, 416, 376, 413, 402, 396, 387, 385, 411, 374, 402,\n",
       "       400, 410, 409, 391, 419, 403, 384, 375, 393, 419, 428, 407, 423,\n",
       "       416, 398, 385, 416, 418, 365, 397, 378, 394, 403, 403, 386, 411,\n",
       "       397, 384, 397, 412, 392, 397, 389, 393, 395, 430, 393, 400, 368,\n",
       "       429, 410, 364, 401, 415, 387, 403, 381, 386, 411, 390, 399, 394,\n",
       "       384, 420, 387, 393, 397, 399, 394, 400, 407, 415, 442, 402, 420,\n",
       "       418, 406, 407, 421, 404, 384, 406, 426, 413, 382, 398, 412, 388,\n",
       "       410, 427, 388, 392, 419, 409, 423, 396, 375, 418, 376, 397, 372,\n",
       "       402, 382, 384, 383, 390, 389, 401, 404, 408, 395, 396, 425, 402,\n",
       "       414, 395, 375, 367, 377, 384, 405, 377, 388, 379, 412, 405, 405,\n",
       "       398, 383, 382, 385, 397, 413, 416, 375, 403, 391, 415, 415, 409,\n",
       "       411, 421, 403, 398, 390, 408, 400, 404, 375, 388, 396, 388, 415,\n",
       "       398, 391, 397, 408, 378, 387, 389, 400, 424, 413, 387, 380, 378,\n",
       "       401, 383, 417, 398, 387, 378, 416, 381, 399, 395, 397, 413, 383,\n",
       "       382, 374, 404, 413, 397, 387, 414, 406, 422, 408, 415, 383, 400,\n",
       "       399, 418, 402, 370, 398, 411, 406, 388, 386, 410, 384, 399, 389,\n",
       "       401, 375, 387, 400, 415, 411, 399, 381, 382, 406, 399, 403, 396,\n",
       "       421, 405, 404, 416, 385, 423, 398, 387, 416, 372, 370, 401, 417,\n",
       "       389, 411, 392, 407, 391, 428, 405, 392, 403, 415, 423, 420, 417,\n",
       "       427, 397, 402, 394, 394, 397, 403, 369, 413, 400, 408, 379, 418,\n",
       "       388, 389, 401, 403, 431, 416, 377, 411, 381, 404, 379, 420, 389,\n",
       "       413, 379, 390, 388, 392, 416, 409, 398, 424, 379, 417, 405, 377,\n",
       "       386, 408, 418, 407, 416, 409, 397, 401, 406, 390, 416, 363, 395,\n",
       "       412, 415, 401, 388, 387, 389, 410, 412, 390, 397, 411, 394, 426,\n",
       "       391, 389, 408, 397, 421, 378, 437, 400, 403, 408, 401, 411, 387,\n",
       "       410, 401, 408, 381, 422, 399, 388, 403, 387, 398, 411, 383])"
      ]
     },
     "execution_count": 22,
     "metadata": {},
     "output_type": "execute_result"
    }
   ],
   "source": [
    "import numpy as np\n",
    "import matplotlib.pyplot as plt\n",
    "\n",
    "n = 1000 # No. of trials\n",
    "probability = 0.4 # Probability of success \n",
    "\n",
    "random_sample = np.random.binomial(n,probability,size=1000) \n",
    "random_sample"
   ]
  },
  {
   "cell_type": "code",
   "execution_count": 23,
   "id": "f8f1328e-5b64-46af-a09f-caa59be93b19",
   "metadata": {},
   "outputs": [
    {
     "data": {
      "text/plain": [
       "1"
      ]
     },
     "execution_count": 23,
     "metadata": {},
     "output_type": "execute_result"
    }
   ],
   "source": [
    "random_sample.ndim"
   ]
  },
  {
   "cell_type": "code",
   "execution_count": 36,
   "id": "21b98124-443b-4ba6-aa4e-dd34df2ad230",
   "metadata": {},
   "outputs": [
    {
     "name": "stdout",
     "output_type": "stream",
     "text": [
      "mean of binomial distribution : 400.243\n",
      "median of binomial distribution : 400.0\n",
      "mode of binomial distribution : ModeResult(mode=array([397]), count=array([42]))\n"
     ]
    }
   ],
   "source": [
    "from scipy import stats as st \n",
    "print(f'mean of binomial distribution : {np.mean(random_sample)}')\n",
    "print(f'median of binomial distribution : {np.median(random_sample)}')\n",
    "print(f'mode of binomial distribution : {st.mode(list(random_sample),keepdims=True)}') # 397 is the mode of the binomial distribution\n",
    "\n",
    "# yhan pe dekh sakte hain ki yhan pe mean,median lagbagh same aa rha hai binomial distribution ke liye <-----\n",
    "# and mode value is different <------------------------------------------------------------------------------"
   ]
  },
  {
   "cell_type": "code",
   "execution_count": 49,
   "id": "f1072186-0c39-4788-896d-e5d78ccf593b",
   "metadata": {},
   "outputs": [
    {
     "data": {
      "image/png": "[encoded data removed]",
      "text/plain": [
       "<Figure size 640x480 with 1 Axes>"
      ]
     },
     "metadata": {},
     "output_type": "display_data"
    }
   ],
   "source": [
    "import numpy as np\n",
    "import matplotlib.pyplot as plt\n",
    "\n",
    "# Parameters\n",
    "n = 1000  # Number of trials\n",
    "p = 0.4   # Probability of success\n",
    "\n",
    "# Generate random sample\n",
    "random_sample = np.random.binomial(n, p, size=1000)\n",
    "\n",
    "# Plot histogram\n",
    "plt.hist(random_sample, bins=20, density=True, alpha=0.6, color='blue')\n",
    "plt.xlabel('Number of Successes')\n",
    "plt.ylabel('Probability')\n",
    "plt.title('Histogram of Binomial Distribution')\n",
    "# plt.grid(True)\n",
    "plt.show()\n"
   ]
  },
  {
   "cell_type": "markdown",
   "id": "d1e4dcc0-e4d9-48ca-962e-1a57899b619c",
   "metadata": {},
   "source": [
    "# Q6. Write a Python function to calculate the cumulative distribution function of a Poisson distribution with given mean at a given point."
   ]
  },
  {
   "cell_type": "code",
   "execution_count": 52,
   "id": "556a667c-c962-4eec-80e5-f606d3aa6361",
   "metadata": {},
   "outputs": [
    {
     "name": "stdout",
     "output_type": "stream",
     "text": [
      "CDF at point 2 with mean 3 : 0.42319008112684364\n"
     ]
    }
   ],
   "source": [
    "from scipy.stats import poisson\n",
    "\n",
    "def poissson_cdf(mean,point):\n",
    "    return poisson.cdf(point,mu=mean) \n",
    "\n",
    "mean = 3 # Mean of the poisson distribution \n",
    "point = 2 # Point at which to calculate the cdf \n",
    "\n",
    "print(f'CDF at point {point} with mean {mean} : {poissson_cdf(mean,point)}')"
   ]
  },
  {
   "cell_type": "markdown",
   "id": "6e81ccc2-501b-456b-bba4-50bd88ccac75",
   "metadata": {},
   "source": [
    "# Q7. How Binomial distribution different from Poisson distribution?\n"
   ]
  },
  {
   "cell_type": "raw",
   "id": "e6f523b3-b079-44c4-8af2-dc7103cf4ecb",
   "metadata": {},
   "source": [
    "The Binomial distribution and the Poisson distribution are both discrete probability distributions used to model different types of random events, but they have distinct characteristics that set them apart.\n",
    "\n",
    "Binomial Distribution:\n",
    "The Binomial distribution is used to model the number of successes in a fixed number of independent trials, where each trial has only two possible outcomes: success or failure. This distribution is typically applied to situations with a fixed number of trials, and the probability of success remains constant for each trial. It is described by two parameters: the number of trials (n) and the probability of success in a single trial (p). The mean (μ) and variance (σ^2) of the Binomial distribution are calculated as follows:\n",
    "\n",
    "Mean (μ) = n * p\n",
    "Variance (σ^2) = n * p * (1 - p)\n",
    "Poisson Distribution:\n",
    "The Poisson distribution, on the other hand, is used to model the number of events that occur randomly in a fixed interval of time or space. This distribution is suitable for situations where the number of events can vary without a predetermined limit and the events occur independently. It is characterized by a single parameter, λ (lambda), which represents the average rate of events occurring in the specified interval. The mean (μ) and variance (σ^2) of the Poisson distribution are both equal to λ.\n",
    "\n",
    "Key Differences:\n",
    "\n",
    "Nature:\n",
    "\n",
    "Binomial distribution is biparametric, as it requires two parameters: the number of trials (n) and the probability of success (p).\n",
    "Poisson distribution is uniparametric, as it is described by a single parameter: the average rate of events (λ).\n",
    "Number of Trials/Events:\n",
    "\n",
    "Binomial distribution is applicable to experiments with a fixed number of trials (n).\n",
    "Poisson distribution is applicable to events occurring within a fixed interval of time or space.\n",
    "Probability of Success:\n",
    "\n",
    "In the Binomial distribution, the probability of success remains constant for each trial.\n",
    "The Poisson distribution doesn't explicitly consider the probability of success; it focuses on the average rate of event occurrences.\n",
    "Outcomes:\n",
    "\n",
    "Binomial distribution has only two possible outcomes: success or failure.\n",
    "Poisson distribution has an unlimited number of possible outcomes.\n",
    "Mean and Variance:\n",
    "\n",
    "In the Binomial distribution, the mean (μ) is greater than the variance (σ^2).\n",
    "In the Poisson distribution, the mean (μ) is equal to the variance (σ^2).\n",
    "Both distributions have their applications in different scenarios. The Binomial distribution is often used for scenarios involving a fixed number of trials with a constant probability of success, such as coin tosses. The Poisson distribution is used to model events that occur randomly over time, like the number of customer arrivals at a service point within a fixed time period.\n",
    "\n",
    "Overall, while the Binomial distribution is centered around a fixed number of trials with two outcomes, the Poisson distribution focuses on modeling the random occurrences of events within a given inte"
   ]
  },
  {
   "cell_type": "markdown",
   "id": "0514bc18-1484-4748-b1c8-8495d8366b95",
   "metadata": {},
   "source": [
    "# Q8. Generate a random sample of size 1000 from a Poisson distribution with mean 5 and calculate the sample mean and variance."
   ]
  },
  {
   "cell_type": "code",
   "execution_count": 9,
   "id": "2a0a4089-2c69-4970-8e4d-69450e571f82",
   "metadata": {},
   "outputs": [
    {
     "name": "stdout",
     "output_type": "stream",
     "text": [
      "sample mean : 5.054\n",
      "sample variance : 5.055084000000001\n"
     ]
    }
   ],
   "source": [
    "import numpy as np \n",
    "\n",
    "lambda_parameter = 5 # lamda hi mean hota hai aur mean === variance in poisson distribution,mean and variance same hote hain poisson distribution me\n",
    "sample_size = 1000\n",
    "random_sample = np.random.poisson(lambda_parameter,sample_size) \n",
    "random_sample \n",
    "print(f'sample mean : {np.mean(random_sample)}')\n",
    "print(f'sample variance : {np.var(random_sample)}')"
   ]
  },
  {
   "cell_type": "markdown",
   "id": "39654a27-8e92-4cdf-a26e-d6e378e19ac3",
   "metadata": {},
   "source": [
    "# Q9. How mean and variance are related in Binomial distribution and Poisson distribution?"
   ]
  },
  {
   "cell_type": "raw",
   "id": "ec339874-ce21-4b7a-a062-b12329d1c7d3",
   "metadata": {},
   "source": [
    "In both Binomial and Poisson distributions, the relationship between the mean and variance can be summarized as follows:\n",
    "    Binomial Distribution:\n",
    "In a binomial distribution, which deals with a fixed number of independent trials, the mean (μ) is calculated as the product of the number of trials (\n",
    "n) and the probability of success (p) in each trial: =μ=np.\n",
    "\n",
    "The variance (2σ^2) of a binomial distribution is calculated as the product of the number of trials (n), \n",
    "the probability of success (p), and the probability of failure (1−q=1−p): 2=σ^2=npq\n",
    "\n",
    "\n",
    "The relationship between mean and variance in a binomial distribution is 2σ^2 = npq, where 2σ2 is the variance, \n",
    "n is the number of trials, \n",
    "\n",
    "p is the probability of success, and \n",
    "\n",
    "q is the probability of failure.\n",
    "\n",
    "Poisson Distribution:\n",
    "In a Poisson distribution, which deals with the occurrence of events in a fixed interval of time or space, the mean (λ) is equal to both \n",
    "the expected number of events and the variance: ==2λ=μ=σ2\n",
    "\n",
    "The relationship between mean and variance in a Poisson distribution is =2=μ=σ^2=λ, where \n",
    "\n",
    "μ is the mean, 2σ^2 is the variance, and \n",
    "\n",
    "λ is the expected number of events.\n",
    "\n",
    "In summary, the mean and variance are directly related in both the binomial and Poisson distributions. In the binomial distribution, the variance is calculated using both the number of trials and the probabilities of success and failure. In the Poisson distribution, the mean and variance are equal and represent the expected number of events."
   ]
  },
  {
   "cell_type": "markdown",
   "id": "27518fa9-cca7-4285-aaca-cd561304fb64",
   "metadata": {},
   "source": [
    "# Q10. In normal distribution with respect to mean position, where does the least frequent data appear?"
   ]
  },
  {
   "cell_type": "raw",
   "id": "cd78da90-6f57-47bf-a7f4-c9e0a2118e2f",
   "metadata": {},
   "source": [
    "In a normal distribution, also known as the Gaussian distribution, the least frequent data appears in the tails of the distribution, which are the regions far away from the mean. The normal distribution is symmetric about its mean, forming a bell-shaped curve. Most of the data points are clustered around the mean, and the frequency of data decreases as you move away from the mean in both directions. The tails of the distribution represent the extreme values that are less frequent in occurrence compared to the values closer to the mean.\n",
    "\n",
    "To provide a visual representation, the normal distribution curve has a high point at the mean and gradually tapers off towards the tails on either side. This means that the data in the tails, which are the regions farther away from the mean, are the least frequent occurrences in a normal distribution.\n",
    "\n",
    "In summary, the least frequent data in a normal distribution appears in the tails of the distribution, which are the regions located far away from the mean."
   ]
  },
  {
   "cell_type": "code",
   "execution_count": null,
   "id": "56026003-ad62-48fa-9799-2afc8c39adb3",
   "metadata": {},
   "outputs": [],
   "source": []
  },
  {
   "cell_type": "code",
   "execution_count": null,
   "id": "763c70a8-fc8c-4f2c-a7ac-31df7e0c8093",
   "metadata": {},
   "outputs": [],
   "source": []
  },
  {
   "cell_type": "code",
   "execution_count": null,
   "id": "e7fcb9d9-57d8-4c8f-b8d5-d070fd9a607e",
   "metadata": {},
   "outputs": [],
   "source": []
  }
 ],
 "metadata": {
  "kernelspec": {
   "display_name": "Python 3 (ipykernel)",
   "language": "python",
   "name": "python3"
  },
  "language_info": {
   "codemirror_mode": {
    "name": "ipython",
    "version": 3
   },
   "file_extension": ".py",
   "mimetype": "text/x-python",
   "name": "python",
   "nbconvert_exporter": "python",
   "pygments_lexer": "ipython3",
   "version": "3.9.13"
  }
 },
 "nbformat": 4,
 "nbformat_minor": 5
}
